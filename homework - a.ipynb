{
 "cells": [
  {
   "cell_type": "markdown",
   "metadata": {},
   "source": [
    "# 二、文本的基本处理"
   ]
  },
  {
   "cell_type": "markdown",
   "metadata": {},
   "source": [
    "> 作业2.1 编写函数avgWordLen(text)，计算一个文本的平均词长。（NLTK.Book导入的text1）"
   ]
  },
  {
   "cell_type": "code",
   "execution_count": 2,
   "metadata": {
    "tags": []
   },
   "outputs": [
    {
     "data": {
      "text/plain": [
       "FileSystemPathPointer('C:\\\\Users\\\\28347\\\\AppData\\\\Roaming\\\\nltk_data')"
      ]
     },
     "execution_count": 2,
     "metadata": {},
     "output_type": "execute_result"
    }
   ],
   "source": [
    "import nltk\n",
    "nltk.find(\".\")\n",
    "#遇到载入nltk_data的问题，解决方案参考：https://blog.csdn.net/qq_43140627/article/details/103895811"
   ]
  },
  {
   "cell_type": "code",
   "execution_count": 3,
   "metadata": {
    "tags": []
   },
   "outputs": [
    {
     "name": "stdout",
     "output_type": "stream",
     "text": [
      "*** Introductory Examples for the NLTK Book ***\n",
      "Loading text1, ..., text9 and sent1, ..., sent9\n",
      "Type the name of the text or sentence to view it.\n",
      "Type: 'texts()' or 'sents()' to list the materials.\n",
      "text1: Moby Dick by Herman Melville 1851\n",
      "text2: Sense and Sensibility by Jane Austen 1811\n",
      "text3: The Book of Genesis\n",
      "text4: Inaugural Address Corpus\n",
      "text5: Chat Corpus\n",
      "text6: Monty Python and the Holy Grail\n",
      "text7: Wall Street Journal\n",
      "text8: Personals Corpus\n",
      "text9: The Man Who Was Thursday by G . K . Chesterton 1908\n",
      "text1: Moby Dick by Herman Melville 1851\n",
      "text2: Sense and Sensibility by Jane Austen 1811\n",
      "text3: The Book of Genesis\n",
      "text4: Inaugural Address Corpus\n",
      "text5: Chat Corpus\n",
      "text6: Monty Python and the Holy Grail\n",
      "text7: Wall Street Journal\n",
      "text8: Personals Corpus\n",
      "text9: The Man Who Was Thursday by G . K . Chesterton 1908\n"
     ]
    }
   ],
   "source": [
    "from nltk.book import *\n",
    "nltk.book.texts()"
   ]
  },
  {
   "cell_type": "code",
   "execution_count": 29,
   "metadata": {},
   "outputs": [
    {
     "data": {
      "text/plain": [
       "3.830411128023649"
      ]
     },
     "execution_count": 29,
     "metadata": {},
     "output_type": "execute_result"
    }
   ],
   "source": [
    "def avgWordLen(text):\n",
    "   words_num=len(text)\n",
    "   letter_len=0\n",
    "   for w in text:\n",
    "       letter_len+=len(w)\n",
    "   return letter_len/words_num\n",
    "avgWordLen(text1)"
   ]
  },
  {
   "cell_type": "markdown",
   "metadata": {},
   "source": [
    "> 作业 2.2 什么是Unicode编码和UTF-8，二者的关系，如何转换？\n",
    "\n"
   ]
  },
  {
   "cell_type": "markdown",
   "metadata": {},
   "source": [
    "Unicode:规定文字符号二进制表达（编码）的符号集，码长为4字节。理论上可以编码2^31个符号。兼容ASCII，目前收录了13万个符号。\n",
    "\n",
    "UTF-8:一种可以实现Unicode的变长码。编码规则：\n",
    "\n",
    "1.对于单字节的符号，字节的第一位设为0，后面7位为这个符号的unicode码。因此对于英语字母，UTF-8编码和ASCII码是相同的。\n",
    "2.对于n字节的符号（n>1），第一个字节的前n位都设为1，第n+1位设为0，后面字节的前两位一律设为10。剩下的没有提及的二进制位，全部用于这个符号的unicode码。\n",
    "\n",
    "UTF-8编码\t                          实际字符编码长度\n",
    "0xxxxxxxx\t                          7\n",
    "110xxxxx 10xxxxxx\t                  11\n",
    "1110xxxx 10xxxxxx 10xxxxxx\t          16\n",
    "11110xxx 10xxxxxx 10xxxxxx 10xxxxxx\t  21\n",
    "\n",
    "\n",
    "二者的关系:\n",
    "因为很多符号在用Unicode表示时，不需要4个字节，比如英语字母，一个字节\n",
    "就够了。这样存储会造成空间的浪费，所以我们引入了变长码，根据不同字符的需要进行简化，目标是给字符分配可满足表示需求的最小长度编码。\n",
    "\n",
    "二者的转换：\n",
    "Unicode转UTF-8：\n",
    "在UTF-8中，如果一个字符的字节小于0x80（128）则为ASCII字符，占一个字节，可以不用转换，因为UTF-8兼容ASCII编码。假如在Unicode中汉字“你”的编码为“u4F60”，把它转换为二进制为100111101100000，然后按照UTF-8的方法进行转换。可以将Unicode二进制从低位往高位取出二进制数字，每次取6位，如上述的二进制就可以分别取出为如下所示的格式，前面按格式填补，不足8位用0填补。\n",
    "UTF-8转Unicode：\n",
    "就是按照格式把它在二进制中的相应位置上取出，然后在转换就是所得到的Unicode字符了（这个运算可以通过“位移”来完成）。如上述的“你”的转换，由于其值大于0x800小于0x10000，因此可以判断为三字节存储，则最高位需要向右移“12”位再根据三字节格式的最高位为11100000（0xE0）求或（|）就可以得到最高位的值了。同理第二位则是右移“6”位，则还剩下最高位和第二位的二进制值，可以通过与111111（0x3F）求按位于（&）操作，再和11000000（0x80）求或（|）。第三位就不用移位了，只要直接取最后六位（与111111（ox3F）取&），在与11000000(0x80)求或（|）。OK了，转换成功！\n",
    "参考：http://www.360doc.cn/article/7471983_321521603.html"
   ]
  },
  {
   "cell_type": "markdown",
   "metadata": {},
   "source": [
    "> 作业 2.3 遍写函数lenFreq(text)，文本是其唯一输入参数，画出该文本的词长—频率分布图"
   ]
  },
  {
   "cell_type": "code",
   "execution_count": 112,
   "metadata": {},
   "outputs": [
    {
     "data": {
      "image/png": "[encoded data removed]",
      "text/plain": [
       "<Figure size 432x288 with 1 Axes>"
      ]
     },
     "metadata": {
      "needs_background": "light"
     },
     "output_type": "display_data"
    }
   ],
   "source": [
    "import numpy as np\n",
    "import matplotlib.pyplot as plt\n",
    "def lenFreq(text):\n",
    "    dic={}\n",
    "    for w in text:\n",
    "        if len(w) not in dic:\n",
    "            dic[len(w)]=1\n",
    "        else:\n",
    "            dic[len(w)]+=1\n",
    "    #print(dic)\n",
    "    #画图部分参考：https://stackoverrun.com/cn/q/5790101\n",
    "    pos = np.arange(len(dic.keys()))\n",
    "    width = 1.0     # gives histogram aspect to the bar diagram\n",
    "    ax = plt.axes()\n",
    "    ax.set_xticks(pos + (width / 2))\n",
    "    ax.set_xticklabels(dic.keys())\n",
    "    plt.bar(dic.keys(), dic, width, color='g')\n",
    "    plt.show()\n",
    "    \n",
    "lenFreq(text1)"
   ]
  },
  {
   "cell_type": "markdown",
   "metadata": {},
   "source": [
    ">作业 2.4 使用正则表达式编程计算Moby Dick（NLTK.Book导入的text1）文本中，26个字母结尾词的各自次数。\n"
   ]
  },
  {
   "cell_type": "code",
   "execution_count": 83,
   "metadata": {},
   "outputs": [
    {
     "name": "stdout",
     "output_type": "stream",
     "text": [
      "5430 916 421 23293 42367 8072 8654 6459 70 0 2608 6487 4146 17327 8644 1959 1 11351 26833 23082 1189 9 2669 93 12208 11\n"
     ]
    }
   ],
   "source": [
    "#因为不知道要如何把正则表达式识别到的字母识别为字典的键进行统计，所以没有使用正则表达式，还在研究中\n",
    "a=0\n",
    "b=0\n",
    "c=0\n",
    "d=0\n",
    "e=0\n",
    "f=0\n",
    "g=0\n",
    "h=0\n",
    "i=0\n",
    "j=0\n",
    "k=0\n",
    "l=0\n",
    "m=0\n",
    "n=0\n",
    "o=0\n",
    "p=0\n",
    "q=0\n",
    "r=0\n",
    "s=0\n",
    "t=0\n",
    "u=0\n",
    "v=0\n",
    "ww=0\n",
    "x=0\n",
    "y=0\n",
    "z=0\n",
    "for w in text1:\n",
    "    if w.endswith('a'):a+=1\n",
    "    if w.endswith('b'):b+=1\n",
    "    if w.endswith('c'):c+=1\n",
    "    if w.endswith('d'):d+=1\n",
    "    if w.endswith('e'):e+=1\n",
    "    if w.endswith('f'):f+=1\n",
    "    if w.endswith('g'):g+=1\n",
    "    if w.endswith('h'):h+=1\n",
    "    if w.endswith('i'):i+=1\n",
    "    if w.endswith('j'):j+=1\n",
    "    if w.endswith('k'):k+=1\n",
    "    if w.endswith('l'):l+=1\n",
    "    if w.endswith('m'):m+=1\n",
    "    if w.endswith('n'):n+=1\n",
    "    if w.endswith('o'):o+=1\n",
    "    if w.endswith('p'):p+=1\n",
    "    if w.endswith('q'):q+=1\n",
    "    if w.endswith('r'):r+=1\n",
    "    if w.endswith('s'):s+=1\n",
    "    if w.endswith('t'):t+=1\n",
    "    if w.endswith('u'):u+=1\n",
    "    if w.endswith('v'):v+=1\n",
    "    if w.endswith('w'):ww+=1\n",
    "    if w.endswith('x'):x+=1\n",
    "    if w.endswith('y'):y+=1\n",
    "    if w.endswith('z'):z+=1\n",
    "print(a,b,c,d,e,f,g,h,i,j,k,l,m,n,o,p,q,r,s,t,u,v,ww,x,y,z)\n"
   ]
  },
  {
   "cell_type": "markdown",
   "metadata": {},
   "source": [
    "> 作业2.5 文件28885.txt是一篇小说，请用re提取出书名，作者名字，语言，以及小说正文。\n"
   ]
  },
  {
   "cell_type": "code",
   "execution_count": 45,
   "metadata": {},
   "outputs": [
    {
     "data": {
      "text/plain": [
       "['Title: Alice',\n",
       " 'Author: Lewis',\n",
       " 'Language: English',\n",
       " 'CHAPTER I',\n",
       " 'CHAPTER I',\n",
       " 'CHAPTER I',\n",
       " 'CHAPTER I',\n",
       " 'CHAPTER V',\n",
       " 'CHAPTER V',\n",
       " 'CHAPTER V',\n",
       " 'CHAPTER V',\n",
       " 'CHAPTER I',\n",
       " 'CHAPTER X',\n",
       " 'CHAPTER X',\n",
       " 'CHAPTER X']"
      ]
     },
     "execution_count": 45,
     "metadata": {},
     "output_type": "execute_result"
    }
   ],
   "source": [
    "f = open('28885.txt')\n",
    "txt = f.read()\n",
    "pattern=re.compile(\"^Title: \\w+|^Author: \\w+|^Language: \\w+|CHAPTER \\w\",flags=re.M)\n",
    "pattern.findall(txt)"
   ]
  },
  {
   "cell_type": "markdown",
   "metadata": {},
   "source": [
    ">作业 2.6 从email文件中，提取收件人和接收人的email，主题，以及文章中的日期。\n",
    "\n",
    "From: python@python.com  \n",
    "Subject: This is a letter  \n",
    "To: alpha@cuc.edu.cn  \n",
    "Reply To: beta@cuc.edu.cn  \n",
    "body: Dear Professor XX:\n",
    "I found your information on the website of the Department of Civil and Environmental Engineering, and I noticed that your research focuses on ITS and Traffic Engineering. Since I was majoring in Transportation Engineering and had good background of computer skills and programming, I take great interest on this area. I wonder if you would take any student next fall 2007, and I hope you could give me more information about your program.\n",
    "Again, thank you for your attention.  \n",
    "\n"
   ]
  },
  {
   "cell_type": "code",
   "execution_count": 55,
   "metadata": {},
   "outputs": [
    {
     "data": {
      "text/plain": [
       "['From: python@python.com', 'Subject: This', 'To: alpha@cuc.edu.cn', '2007']"
      ]
     },
     "execution_count": 55,
     "metadata": {},
     "output_type": "execute_result"
    }
   ],
   "source": [
    "txt='''From: python@python.com\n",
    "Subject: This is a letter\n",
    "To: alpha@cuc.edu.cn\n",
    "Reply To: beta@cuc.edu.cn\n",
    "body: Dear Professor XX: I found your information on the website of the Department of Civil and Environmental Engineering, and I noticed that your research focuses on ITS and Traffic Engineering. Since I was majoring in Transportation Engineering and had good background of computer skills and programming, I take great interest on this area. I wonder if you would take any student next fall 2007, and I hope you could give me more information about your program. Again, thank you for your attention.'''\n",
    "pattern=re.compile(\"^From: \\w+@\\w+\\.\\w+|^To: \\w+@\\w+\\.\\w+\\.\\w+|^Subject: \\w+|[1-9][0-9][0-9][0-9]\",flags=re.M)\n",
    "pattern.findall(txt)"
   ]
  }
 ],
 "metadata": {
  "kernelspec": {
   "display_name": "Python 3",
   "language": "python",
   "name": "python3"
  },
  "language_info": {
   "codemirror_mode": {
    "name": "ipython",
    "version": 3
   },
   "file_extension": ".py",
   "mimetype": "text/x-python",
   "name": "python",
   "nbconvert_exporter": "python",
   "pygments_lexer": "ipython3",
   "version": "3.6.8"
  }
 },
 "nbformat": 4,
 "nbformat_minor": 4
}
