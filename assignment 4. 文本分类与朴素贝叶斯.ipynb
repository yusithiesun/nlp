{
 "cells": [
  {
   "cell_type": "markdown",
   "metadata": {},
   "source": [
    "## 实验5 文本分类-朴素贝叶斯"
   ]
  },
  {
   "cell_type": "markdown",
   "metadata": {},
   "source": [
    "1.1 基于NLTK的朴素贝叶斯分类器实现人名分类。"
   ]
  },
  {
   "cell_type": "code",
   "execution_count": 1,
   "metadata": {},
   "outputs": [
    {
     "data": {
      "text/plain": [
       "{'last_letter': 'k'}"
      ]
     },
     "execution_count": 1,
     "metadata": {},
     "output_type": "execute_result"
    }
   ],
   "source": [
    "def gender_features(word):\n",
    "    return {'last_letter':word[-1]}\n",
    "#定义取倒数第一个字母的函数\n",
    "gender_features('Shrek')"
   ]
  },
  {
   "cell_type": "code",
   "execution_count": 7,
   "metadata": {},
   "outputs": [
    {
     "data": {
      "text/plain": [
       "7944"
      ]
     },
     "execution_count": 7,
     "metadata": {},
     "output_type": "execute_result"
    }
   ],
   "source": [
    "#从语料库中取出需要的名字-性别数据，并进行预处理\n",
    "from nltk.corpus import names\n",
    "labeled_names=([(name,'male') for name in names.words('male.txt')]+\n",
    "               [(name,'female') for name in names.words('female.txt')])\n",
    "import random\n",
    "random.shuffle(labeled_names)\n",
    "len(labeled_names)"
   ]
  },
  {
   "cell_type": "code",
   "execution_count": 20,
   "metadata": {
    "scrolled": true
   },
   "outputs": [
    {
     "data": {
      "text/plain": [
       "'male'"
      ]
     },
     "execution_count": 20,
     "metadata": {},
     "output_type": "execute_result"
    }
   ],
   "source": [
    "#划分训练集和测试集，训练分类模型\n",
    "import nltk\n",
    "featuresets=[(gender_features(n),gender) for (n,gender) in labeled_names]\n",
    "train_set=featuresets[1000:]\n",
    "test_set=featuresets[:1000]\n",
    "classifier=nltk.NaiveBayesClassifier.train(train_set)\n",
    "classifier.classify(gender_features('Neo'))\n",
    "#gender_features('Neo')"
   ]
  },
  {
   "cell_type": "code",
   "execution_count": 21,
   "metadata": {},
   "outputs": [
    {
     "name": "stdout",
     "output_type": "stream",
     "text": [
      "0.742\n"
     ]
    }
   ],
   "source": [
    "#利用测试集对分类器的准确度进行评价\n",
    "print(nltk.classify.accuracy(classifier,test_set))"
   ]
  },
  {
   "cell_type": "markdown",
   "metadata": {},
   "source": [
    "1.2 通过选择新的特征(或者加入新特征），改进基于NLTK的人名NaiveBayes分类器。"
   ]
  },
  {
   "cell_type": "code",
   "execution_count": 31,
   "metadata": {
    "scrolled": false
   },
   "outputs": [
    {
     "name": "stdout",
     "output_type": "stream",
     "text": [
      "0.759\n"
     ]
    }
   ],
   "source": [
    "def gender_features(word):\n",
    "    return {'first_letter':word[0],'last_letter':word[-1]}\n",
    "#首字母和末尾字母\n",
    "\n",
    "from nltk.classify import apply_features\n",
    "train_set=apply_features(gender_features,labeled_names[1000:])\n",
    "test_set=apply_features(gender_features,labeled_names[:1000])\n",
    "classifier=nltk.NaiveBayesClassifier.train(train_set)\n",
    "\n",
    "print(nltk.classify.accuracy(classifier,test_set))"
   ]
  },
  {
   "cell_type": "code",
   "execution_count": 33,
   "metadata": {},
   "outputs": [
    {
     "name": "stdout",
     "output_type": "stream",
     "text": [
      "0.756\n"
     ]
    }
   ],
   "source": [
    "def gender_features(word):\n",
    "    return {'last2_letter':word[-2],'last_letter':word[-1]}\n",
    "#倒数两个字母\n",
    "\n",
    "from nltk.classify import apply_features\n",
    "train_set=apply_features(gender_features,labeled_names[1000:])\n",
    "test_set=apply_features(gender_features,labeled_names[:1000])\n",
    "classifier=nltk.NaiveBayesClassifier.train(train_set)\n",
    "\n",
    "print(nltk.classify.accuracy(classifier,test_set))"
   ]
  },
  {
   "cell_type": "code",
   "execution_count": 36,
   "metadata": {},
   "outputs": [
    {
     "name": "stdout",
     "output_type": "stream",
     "text": [
      "0.757\n"
     ]
    }
   ],
   "source": [
    "def gender_features(word):\n",
    "    return {'first_letter':word[0],'last_letter':word[-1],'length':len(word)}\n",
    "#首字母,末尾字母,名字长度\n",
    "\n",
    "from nltk.classify import apply_features\n",
    "train_set=apply_features(gender_features,labeled_names[1000:])\n",
    "test_set=apply_features(gender_features,labeled_names[:1000])\n",
    "classifier=nltk.NaiveBayesClassifier.train(train_set)\n",
    "\n",
    "print(nltk.classify.accuracy(classifier,test_set))"
   ]
  },
  {
   "cell_type": "markdown",
   "metadata": {},
   "source": [
    "1.3 分析特征的有效性。"
   ]
  },
  {
   "cell_type": "code",
   "execution_count": null,
   "metadata": {},
   "outputs": [],
   "source": [
    "#在以上几种特征组合训练的分类器中，使用首字母+末尾字母的分类器精度最大，为0.759"
   ]
  },
  {
   "attachments": {
    "image.png": {
     "image/png": "[encoded data removed]"
    }
   },
   "cell_type": "markdown",
   "metadata": {},
   "source": [
    "2 编程实现朴素贝叶斯，以简单语料为例。\n",
    "![image.png](attachment:image.png)"
   ]
  },
  {
   "cell_type": "code",
   "execution_count": 45,
   "metadata": {
    "scrolled": false
   },
   "outputs": [
    {
     "ename": "TypeError",
     "evalue": "'tuple' object is not callable",
     "output_type": "error",
     "traceback": [
      "\u001b[1;31m---------------------------------------------------------------------------\u001b[0m",
      "\u001b[1;31mTypeError\u001b[0m                                 Traceback (most recent call last)",
      "\u001b[1;32m<ipython-input-45-bf01312e612f>\u001b[0m in \u001b[0;36m<module>\u001b[1;34m\u001b[0m\n\u001b[0;32m      1\u001b[0m documents = [(['Chinese,Beijing,Chinese'],'c'),(['Chinese','Chinese','Shanghai'],'c')\n\u001b[1;32m----> 2\u001b[1;33m             (['Chinese','Macao'],'c'),(['Tokyo','Japan','Chinese'],'j')]\n\u001b[0m",
      "\u001b[1;31mTypeError\u001b[0m: 'tuple' object is not callable"
     ]
    }
   ],
   "source": [
    "documents = [(['Chinese,Beijing,Chinese'],'c'),(['Chinese','Chinese','Shanghai'],'c')\n",
    "            (['Chinese','Macao'],'c'),(['Tokyo','Japan','Chinese'],'j')]\n"
   ]
  }
 ],
 "metadata": {
  "kernelspec": {
   "display_name": "Python 3",
   "language": "python",
   "name": "python3"
  },
  "language_info": {
   "codemirror_mode": {
    "name": "ipython",
    "version": 3
   },
   "file_extension": ".py",
   "mimetype": "text/x-python",
   "name": "python",
   "nbconvert_exporter": "python",
   "pygments_lexer": "ipython3",
   "version": "3.6.8"
  }
 },
 "nbformat": 4,
 "nbformat_minor": 4
}
