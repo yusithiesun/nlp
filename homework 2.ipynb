{
 "cells": [
  {
   "cell_type": "markdown",
   "metadata": {},
   "source": [
    "## 作业2 分词"
   ]
  },
  {
   "cell_type": "markdown",
   "metadata": {},
   "source": [
    "1. 计算jieba和thula的P，R，F值。基于文本‘express.txt’，标准文本是人工切分。"
   ]
  },
  {
   "cell_type": "code",
   "execution_count": 54,
   "metadata": {
    "scrolled": false
   },
   "outputs": [
    {
     "name": "stdout",
     "output_type": "stream",
     "text": [
      "近些年来，快递行业发生了巨大转变，各类机器人正试图夺走快递小哥的工作。继多家公司试验无人机送货后，地面送货机器人也开始上路了。本月月初，弗吉尼亚州通过法案，允许地面送货机器人上路，今天爱达荷州（位于美国西北部）则成了第二个批准送货机器人上路的州，不过这项法案今年7月1日才会正式生效。\n",
      "['近些年来', '，', '快递', '行业', '发生', '了', '巨大', '转变', '，', '各类', '机器人', '正试图', '夺走', '快递', '小哥', '的', '工作', '。', '继', '多家', '公司', '试验', '无人机', '送货', '后', '，', '地面', '送货', '机器人', '也', '开始', '上路', '了', '。', '本月', '月初', '，', '弗吉尼亚州', '通过', '法案', '，', '允许', '地面', '送货', '机器人', '上路', '，', '今天', '爱达荷州', '（', '位于', '美国', '西北部', '）', '则', '成', '了', '第二个', '批准', '送货', '机器人', '上路', '的', '州', '，', '不过', '这项', '法案', '今年', '7', '月', '1', '日才', '会', '正式', '生效', '。']\n"
     ]
    }
   ],
   "source": [
    "#jieba分词\n",
    "import jieba\n",
    "f=open('express.txt')\n",
    "txt=f.read()\n",
    "print(txt)\n",
    "seg_list=jieba.cut(txt)\n",
    "print(list(seg_list))"
   ]
  },
  {
   "cell_type": "code",
   "execution_count": 70,
   "metadata": {
    "scrolled": true
   },
   "outputs": [
    {
     "name": "stdout",
     "output_type": "stream",
     "text": [
      "近些年来，快递行业发生了巨大转变，各类机器人正试图夺走快递小哥的工作。继多家公司试验无人机送货后，地面送货机器人也开始上路了。本月月初，弗吉尼亚州通过法案，允许地面送货机器人上路，今天爱达荷州（位于美国西北部）则成了第二个批准送货机器人上路的州，不过这项法案今年7月1日才会正式生效。\n",
      "Model loaded succeed\n",
      "近些年 来 ， 快 递 行业 发生 了 巨大 转变 ， 各类 机器人 正 试图 夺 走 快递 小哥 的 工作 。 继 多 家 公司 试验 无人机 送货 后 ， 地面 送货 机器人 也 开始 上路 了 。 本月月 初 ， 弗吉尼亚州 通过 法案 ， 允许 地面 送货 机器人 上路 ， 今天 爱达荷州 （ 位于 美国 西北部 ） 则 成 了 第二 个 批准 送货 机器人 上路 的 州 ， 不 过 这项 法案 今年 7月 1日 才 会 正式 生效 。\n"
     ]
    }
   ],
   "source": [
    "#thulac分词\n",
    "import thulac\n",
    "f=open('express.txt')\n",
    "txt=f.read()\n",
    "print(txt)\n",
    "thu1=thulac.thulac(seg_only=True)\n",
    "split=thu1.cut(txt,text=True)\n",
    "print(split)"
   ]
  },
  {
   "cell_type": "code",
   "execution_count": 59,
   "metadata": {
    "scrolled": true
   },
   "outputs": [
    {
     "name": "stdout",
     "output_type": "stream",
     "text": [
      "['近', '些', '年', '来', '快', '递', '行', '业', '发', '生', '了', '巨', '大', '转', '变', '各', '类', '机', '器', '人', '正', '试', '图', '夺', '走', '快', '递', '小', '哥', '的', '工', '作', '继', '多', '家', '公', '司', '试', '验', '无', '人', '机', '送', '货', '后', '地', '面', '送', '货', '机', '器', '人', '也', '开', '始', '上', '路', '了', '本', '月', '月', '初', '弗', '吉', '尼', '亚', '州', '通', '过', '法', '案', '允', '许', '地', '面', '送', '货', '机', '器', '人', '上', '路', '今', '天', '爱', '达', '荷', '州', '位', '于', '美', '国', '西', '北', '部', '则', '成', '了', '第', '二', '个', '批', '准', '送', '货', '机', '器', '人', '上', '路', '的', '州', '不', '过', '这', '项', '法', '案', '今', '年', '7', '月', '1', '日', '才', '会', '正', '式', '生', '效']\n",
      "N: 130\n"
     ]
    }
   ],
   "source": [
    "#N的计算，自动切分（直接统计字数）\n",
    "\n",
    "d=[re.split(r' |\\n',w)[0] for w in txt]\n",
    "dict = []\n",
    "for w in d:\n",
    "    if w == r'，' or w == r'。' or w == r'（'or w == r'）':\n",
    "        pass\n",
    "    else:\n",
    "        dict.append(w)\n",
    "print(dict)\n",
    "N = len(dict)\n",
    "print(\"N:\",N)"
   ]
  },
  {
   "cell_type": "code",
   "execution_count": 77,
   "metadata": {},
   "outputs": [
    {
     "name": "stdout",
     "output_type": "stream",
     "text": [
      "93\n"
     ]
    }
   ],
   "source": [
    "#N的计算（采用人工切分）\n",
    "\n",
    "cut_txt='近些年 来，快递 行业 发生了 巨大 转变，各类 机器人 正 试图 夺走 快递 小哥 的 工作。继 多家 公司 试验 无人机 送货 后，地面 送货 机器人 也 开始 上路 了。本月 月初，弗吉尼亚州 通过 法案，允许 地面 送货 机器人 上路，今天 爱达荷州 （位于 美国 西北部）则 成了 第二个 批准 送货 机器人 上路 的 州，不过 这项 法案 今年 7月1日 才 会 正式 生效 。'\n",
    "N=0\n",
    "for w in split:\n",
    "    if w==r'，' or w==r'。' or w==r'（' or w==r')'or w==r' ':\n",
    "        N+=1\n",
    "print(N)"
   ]
  },
  {
   "cell_type": "code",
   "execution_count": 81,
   "metadata": {},
   "outputs": [
    {
     "name": "stdout",
     "output_type": "stream",
     "text": [
      "jieba切分出的总词数： 66\n",
      "P: 0.6989247311827957\n",
      "R: 0.9848484848484849\n",
      "F: 0.8176100628930818\n"
     ]
    }
   ],
   "source": [
    "#jieba的统计\n",
    "import jieba\n",
    "f=open('express.txt')\n",
    "txt=f.read()\n",
    "seg_list=jieba.cut(txt)\n",
    "jieba_num=0\n",
    "for w in list(seg_list):\n",
    "    if w!=r'，' and w!=r'。' and w!=r'（' and w!=r')'and w!=r' ':\n",
    "        jieba_num+=1\n",
    "print(\"jieba切分出的总词数：\",jieba_num)\n",
    "#人工判断分词错误的词\n",
    "e=1\n",
    "c=jieba_num-e\n",
    "P=c/N\n",
    "R=c/(c+e)\n",
    "F=2*R*P/(R+P)\n",
    "print(\"P:\",P)\n",
    "print(\"R:\",R)\n",
    "print(\"F:\",F)"
   ]
  },
  {
   "cell_type": "code",
   "execution_count": 82,
   "metadata": {},
   "outputs": [
    {
     "name": "stdout",
     "output_type": "stream",
     "text": [
      "thulac切分出的总词数： 93\n",
      "P: 0.9139784946236559\n",
      "R: 0.9139784946236559\n",
      "F: 0.9139784946236559\n"
     ]
    }
   ],
   "source": [
    "#thulac的统计\n",
    "import thulac\n",
    "thulac_num=0\n",
    "split='近些年 来 ， 快 递 行业 发生 了 巨大 转变 ， 各类 机器人 正 试图 夺 走 快递 小哥 的 工作 。 继 多 家 公司 试验 无人机 送货 后 ， 地面 送货 机器人 也 开始 上路 了 。 本月月 初 ， 弗吉尼亚州 通过 法案 ， 允许 地面 送货 机器人 上路 ， 今天 爱达荷州 （ 位于 美国 西北部 ） 则 成 了 第二 个 批准 送货 机器人 上路 的 州 ， 不 过 这项 法案 今年 7月 1日 才 会 正式 生效 。'\n",
    "for w in split:\n",
    "    if w==r'，' or w==r'。' or w==r'（' or w==r')'or w==r' ':\n",
    "        thulac_num+=1\n",
    "print(\"thulac切分出的总词数：\",thulac_num)\n",
    "#人工判断分词错误的词\n",
    "e=8\n",
    "c=thulac_num-e\n",
    "P=c/N\n",
    "R=c/(c+e)\n",
    "F=2*R*P/(R+P)\n",
    "print(\"P:\",P)\n",
    "print(\"R:\",R)\n",
    "print(\"F:\",F)"
   ]
  },
  {
   "cell_type": "markdown",
   "metadata": {},
   "source": [
    "2. 编程实现正向、后向搜索最大匹配分词算法，并计算其P、R、F值，方法同上。\n"
   ]
  },
  {
   "cell_type": "code",
   "execution_count": null,
   "metadata": {},
   "outputs": [],
   "source": [
    "f=open('dict_cn.txt')\n",
    "dict=f.read()\n",
    "txt='近些年来，快递行业发生了巨大转变，各类机器人正试图夺走快递小哥的工作。继多家公司试验无人机送货后，地面送货机器人也开始上路了。本月月初，弗吉尼亚州通过法案，允许地面送货机器人上路，今天爱达荷州（位于美国西北部）则成了第二个批准送货机器人上路的州，不过这项法案今年7月1日才会正式生效。'\n",
    "def ForwardMaximumMatch(sentence, word_dict, max_word_length):\n",
    "    s = sentence\n",
    "    segment_result = []\n",
    "\n",
    "    while s:\n",
    "        match_len = max_word_length\n",
    "        match_len = min(match_len, len(s))\n",
    "\n",
    "    while True:\n",
    "        # 按照当前长度切出一个词\n",
    "        word = s[0:match_len]\n",
    "        # 如果当前切出的词在字典中，注意：单个汉字被认为总是在字典中\n",
    "        # 则切走当前词，并更新s，进行下一轮的切分\n",
    "        if len(word) == 1 or word in word_dict:\n",
    "            word = s[0:match_len]\n",
    "            segment_result.append(word)\n",
    "            s = s[match_len:]\n",
    "            break\n",
    "        # 否则，如果当前切出的词不在字典中，则减小切分长度，重新尝试切分\n",
    "        else:\n",
    "            match_len = match_len - 1\n",
    "\n",
    "    return segment_result\n",
    "\n",
    "\n",
    "result=ForwardMaximumMatch(txt,dict,5)\n",
    "print(result)"
   ]
  },
  {
   "cell_type": "code",
   "execution_count": null,
   "metadata": {},
   "outputs": [],
   "source": [
    "def BackwardMaximumMatch(sentence, word_dict, max_word_length):\n",
    "#中文分词的最大后向匹配算法\n",
    "    s = sentence\n",
    "    segment_result = []\n",
    "\n",
    "    while s:\n",
    "        match_len = max_word_length\n",
    "        match_len = min(match_len, len(s))\n",
    "\n",
    "    while True:\n",
    "        # 从右至左切出最大匹配词\n",
    "        word = s[-match_len:]\n",
    "        # 如果当前词在词典内，则切出最右边的词，并更新带切词句子s\n",
    "        if len(word) == 1 or word in word_dict:\n",
    "            segment_result.append(word)\n",
    "            s = s[0:-match_len]\n",
    "            break\n",
    "        # 否则，当前词不再词典内，则减少匹配长度，继续尝试切分\n",
    "        else:\n",
    "            match_len = match_len - 1\n",
    "\n",
    "    # 由于是自右至左切词，需要对列表进行反转\n",
    "    segment_result.reverse()\n",
    "\n",
    "    return segment_result"
   ]
  },
  {
   "cell_type": "markdown",
   "metadata": {},
   "source": [
    "3. 输出一段文本中所有的词，互相不重复。并计算词数。\n"
   ]
  },
  {
   "cell_type": "code",
   "execution_count": 91,
   "metadata": {},
   "outputs": [
    {
     "name": "stdout",
     "output_type": "stream",
     "text": [
      "[('，', 7), ('机', 5), ('人', 5), ('器', 4), ('送', 4), ('货', 4), ('了', 3), ('。', 3), ('上', 3), ('路', 3), ('月', 3), ('州', 3), ('年', 2), ('快', 2), ('递', 2), ('生', 2), ('正', 2), ('试', 2), ('的', 2), ('地', 2), ('面', 2), ('过', 2), ('法', 2), ('案', 2), ('今', 2), ('近', 1), ('些', 1), ('来', 1), ('行', 1), ('业', 1), ('发', 1), ('巨', 1), ('大', 1), ('转', 1), ('变', 1), ('各', 1), ('类', 1), ('图', 1), ('夺', 1), ('走', 1), ('小', 1), ('哥', 1), ('工', 1), ('作', 1), ('继', 1), ('多', 1), ('家', 1), ('公', 1), ('司', 1), ('验', 1), ('无', 1), ('后', 1), ('也', 1), ('开', 1), ('始', 1), ('本', 1), ('初', 1), ('弗', 1), ('吉', 1), ('尼', 1), ('亚', 1), ('通', 1), ('允', 1), ('许', 1), ('天', 1), ('爱', 1), ('达', 1), ('荷', 1), ('（', 1), ('位', 1), ('于', 1), ('美', 1), ('国', 1), ('西', 1), ('北', 1), ('部', 1), ('）', 1), ('则', 1), ('成', 1), ('第', 1), ('二', 1), ('个', 1), ('批', 1), ('准', 1), ('不', 1), ('这', 1), ('项', 1), ('7', 1), ('1', 1), ('日', 1), ('才', 1), ('会', 1), ('式', 1), ('效', 1)]\n"
     ]
    }
   ],
   "source": [
    "import operator\n",
    "f=open('express.txt')\n",
    "txt=f.read()\n",
    "\n",
    "# 利用字典进行处理\n",
    "dic = {}\n",
    "for w in txt:\n",
    "    if w not in dic:\n",
    "        dic[w]=1\n",
    "    else:\n",
    "        dic[w]+=1\n",
    "\n",
    "#对字典中的进行排序\n",
    "swd = sorted(dic.items(),key=operator.itemgetter(1),reverse=True)\n",
    "print(swd)"
   ]
  }
 ],
 "metadata": {
  "kernelspec": {
   "display_name": "Python 3",
   "language": "python",
   "name": "python3"
  },
  "language_info": {
   "codemirror_mode": {
    "name": "ipython",
    "version": 3
   },
   "file_extension": ".py",
   "mimetype": "text/x-python",
   "name": "python",
   "nbconvert_exporter": "python",
   "pygments_lexer": "ipython3",
   "version": "3.6.8"
  }
 },
 "nbformat": 4,
 "nbformat_minor": 4
}
