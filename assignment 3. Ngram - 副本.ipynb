{
 "cells": [
  {
   "cell_type": "markdown",
   "metadata": {},
   "source": [
    "# 作业3 Ngram"
   ]
  },
  {
   "cell_type": "markdown",
   "metadata": {},
   "source": [
    "1.1、基于布朗语料库，生成其unigram，bigram语料库。"
   ]
  },
  {
   "cell_type": "code",
   "execution_count": 3,
   "metadata": {},
   "outputs": [],
   "source": [
    "#txt文件写入操作\n",
    "import os\n",
    "import json\n",
    "def write_txt(directory,string):\n",
    "    f=open(directory,'w')\n",
    "    dict_string=json.dumps(string)\n",
    "    f.write(dict_string)"
   ]
  },
  {
   "cell_type": "code",
   "execution_count": 4,
   "metadata": {},
   "outputs": [],
   "source": [
    "#unigram\n",
    "from nltk.corpus import brown\n",
    "from nltk import ngrams\n",
    "n=1\n",
    "unigram=ngrams(brown.words(),n)\n",
    "for grams in unigram:\n",
    "    write_txt(r'C:\\Users\\28347\\Desktop\\texts\\brown_unigram.txt',grams)"
   ]
  },
  {
   "cell_type": "code",
   "execution_count": 5,
   "metadata": {},
   "outputs": [],
   "source": [
    "#bigram\n",
    "from nltk.corpus import brown\n",
    "from nltk import ngrams\n",
    "n=2\n",
    "bigram=ngrams(brown.words(),n)\n",
    "for grams in bigram:\n",
    "    write_txt(r'C:\\Users\\28347\\Desktop\\texts\\brown_bigram.txt',grams)"
   ]
  },
  {
   "cell_type": "code",
   "execution_count": 6,
   "metadata": {
    "scrolled": true
   },
   "outputs": [
    {
     "name": "stdout",
     "output_type": "stream",
     "text": [
      "['brown_bigram.txt', 'brown_unigram.txt', 'my_gutenberg.txt']\n"
     ]
    }
   ],
   "source": [
    "#txt文件转语料库并读取验证\n",
    "from nltk.corpus import PlaintextCorpusReader\n",
    "dir=r'C:\\Users\\28347\\Desktop\\texts'\n",
    "my_corpus=PlaintextCorpusReader(dir, '.*\\.txt')\n",
    "print(my_corpus.fileids())"
   ]
  },
  {
   "cell_type": "code",
   "execution_count": 7,
   "metadata": {
    "scrolled": true
   },
   "outputs": [
    {
     "name": "stdout",
     "output_type": "stream",
     "text": [
      "['[\".\"]']\n"
     ]
    }
   ],
   "source": [
    "#unigram验证\n",
    "print(my_corpus.words('brown_unigram.txt'))"
   ]
  },
  {
   "cell_type": "code",
   "execution_count": 8,
   "metadata": {},
   "outputs": [
    {
     "name": "stdout",
     "output_type": "stream",
     "text": [
      "['[\"', 'stupefying', '\",', '\".\"]']\n"
     ]
    }
   ],
   "source": [
    "#bigram验证\n",
    "print(my_corpus.words('brown_bigram.txt'))"
   ]
  },
  {
   "cell_type": "markdown",
   "metadata": {},
   "source": [
    "1.2 分别计算“i like to run”\"i like to abcdefg\"的困惑度"
   ]
  },
  {
   "cell_type": "code",
   "execution_count": 3,
   "metadata": {},
   "outputs": [
    {
     "ename": "AttributeError",
     "evalue": "module 'nltk.lm' has no attribute 'perplexity'",
     "output_type": "error",
     "traceback": [
      "\u001b[1;31m---------------------------------------------------------------------------\u001b[0m",
      "\u001b[1;31mAttributeError\u001b[0m                            Traceback (most recent call last)",
      "\u001b[1;32m<ipython-input-3-68e956499d30>\u001b[0m in \u001b[0;36m<module>\u001b[1;34m\u001b[0m\n\u001b[0;32m      1\u001b[0m \u001b[1;32mfrom\u001b[0m \u001b[0mnltk\u001b[0m \u001b[1;32mimport\u001b[0m \u001b[0mlm\u001b[0m\u001b[1;33m\u001b[0m\u001b[1;33m\u001b[0m\u001b[0m\n\u001b[0;32m      2\u001b[0m \u001b[0mtest\u001b[0m\u001b[1;33m=\u001b[0m\u001b[1;33m[\u001b[0m\u001b[1;33m(\u001b[0m\u001b[1;34m'i like to run'\u001b[0m\u001b[1;33m,\u001b[0m\u001b[1;34m'i like to abcdefg'\u001b[0m\u001b[1;33m)\u001b[0m\u001b[1;33m]\u001b[0m\u001b[1;33m\u001b[0m\u001b[1;33m\u001b[0m\u001b[0m\n\u001b[1;32m----> 3\u001b[1;33m \u001b[0mlm\u001b[0m\u001b[1;33m.\u001b[0m\u001b[0mperplexity\u001b[0m\u001b[1;33m(\u001b[0m\u001b[0mtest\u001b[0m\u001b[1;33m)\u001b[0m\u001b[1;33m\u001b[0m\u001b[1;33m\u001b[0m\u001b[0m\n\u001b[0m",
      "\u001b[1;31mAttributeError\u001b[0m: module 'nltk.lm' has no attribute 'perplexity'"
     ]
    }
   ],
   "source": [
    "from nltk import lm \n",
    "test=[('i like to run','i like to abcdefg')]\n",
    "lm.perplexity(test)"
   ]
  },
  {
   "cell_type": "markdown",
   "metadata": {},
   "source": [
    "1.3 基于古滕堡语料库中的莎士比亚语料麦克白，计算“i like to run”\"i like to abcdefg\"的困惑度"
   ]
  },
  {
   "cell_type": "code",
   "execution_count": 12,
   "metadata": {},
   "outputs": [
    {
     "name": "stdout",
     "output_type": "stream",
     "text": [
      "['[', 'The', 'Tragedie', 'of', 'Macbeth', 'by', ...]\n"
     ]
    }
   ],
   "source": [
    "from nltk.corpus import gutenberg\n",
    "#gutenberg.fileids()\n",
    "words = gutenberg.words('shakespeare-macbeth.txt')\n",
    "print(words)"
   ]
  },
  {
   "cell_type": "markdown",
   "metadata": {},
   "source": [
    "1.4 基于拉普拉斯平滑，计算\"i like to run\"\"i like to abcdefg\"的困惑度"
   ]
  },
  {
   "cell_type": "code",
   "execution_count": null,
   "metadata": {},
   "outputs": [],
   "source": []
  },
  {
   "cell_type": "markdown",
   "metadata": {},
   "source": [
    "reference:\n",
    "https://zhuanlan.zhihu.com/p/82703713\n",
    "https://blog.csdn.net/Flying_sfeng/article/details/75009741\n",
    "https://www.hijerry.cn/p/22281.html"
   ]
  }
 ],
 "metadata": {
  "kernelspec": {
   "display_name": "Python 3",
   "language": "python",
   "name": "python3"
  },
  "language_info": {
   "codemirror_mode": {
    "name": "ipython",
    "version": 3
   },
   "file_extension": ".py",
   "mimetype": "text/x-python",
   "name": "python",
   "nbconvert_exporter": "python",
   "pygments_lexer": "ipython3",
   "version": "3.6.8"
  }
 },
 "nbformat": 4,
 "nbformat_minor": 4
}
